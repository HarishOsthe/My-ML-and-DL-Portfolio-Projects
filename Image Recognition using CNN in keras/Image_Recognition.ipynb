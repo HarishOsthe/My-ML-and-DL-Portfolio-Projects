{
 "cells": [
  {
   "cell_type": "markdown",
   "metadata": {},
   "source": [
    "# Object Recognition on CIFAR-10 Data Set"
   ]
  },
  {
   "cell_type": "code",
   "execution_count": 1,
   "metadata": {
    "colab": {
     "base_uri": "https://localhost:8080/",
     "height": 586
    },
    "colab_type": "code",
    "id": "BtsnoXWvLm5D",
    "outputId": "29e1e693-e0af-46c5-f46d-70b790edac48"
   },
   "outputs": [
    {
     "name": "stdout",
     "output_type": "stream",
     "text": [
      "[name: \"/device:CPU:0\"\n",
      "device_type: \"CPU\"\n",
      "memory_limit: 268435456\n",
      "locality {\n",
      "}\n",
      "incarnation: 17148403904525856678\n",
      ", name: \"/device:XLA_CPU:0\"\n",
      "device_type: \"XLA_CPU\"\n",
      "memory_limit: 17179869184\n",
      "locality {\n",
      "}\n",
      "incarnation: 5071812105472484396\n",
      "physical_device_desc: \"device: XLA_CPU device\"\n",
      ", name: \"/device:XLA_GPU:0\"\n",
      "device_type: \"XLA_GPU\"\n",
      "memory_limit: 17179869184\n",
      "locality {\n",
      "}\n",
      "incarnation: 694345689735871309\n",
      "physical_device_desc: \"device: XLA_GPU device\"\n",
      ", name: \"/device:GPU:0\"\n",
      "device_type: \"GPU\"\n",
      "memory_limit: 11326753997\n",
      "locality {\n",
      "  bus_id: 1\n",
      "  links {\n",
      "  }\n",
      "}\n",
      "incarnation: 14511665416962456353\n",
      "physical_device_desc: \"device: 0, name: Tesla K80, pci bus id: 0000:00:04.0, compute capability: 3.7\"\n",
      "]\n"
     ]
    }
   ],
   "source": [
    "from tensorflow.python.client import device_lib\n",
    "print(device_lib.list_local_devices())"
   ]
  },
  {
   "cell_type": "code",
   "execution_count": 2,
   "metadata": {
    "colab": {
     "base_uri": "https://localhost:8080/",
     "height": 35
    },
    "colab_type": "code",
    "id": "gsRss9LLL1tu",
    "outputId": "18bd2608-8f5a-4cae-9a01-e47f26b2ed57"
   },
   "outputs": [
    {
     "name": "stderr",
     "output_type": "stream",
     "text": [
      "Using TensorFlow backend.\n"
     ]
    }
   ],
   "source": [
    "from keras.datasets import cifar10"
   ]
  },
  {
   "cell_type": "code",
   "execution_count": null,
   "metadata": {
    "colab": {},
    "colab_type": "code",
    "id": "sHVuYLQhM2SU"
   },
   "outputs": [],
   "source": [
    "from keras.utils import np_utils\n",
    "import matplotlib.pyplot as plt\n",
    "import numpy as np\n",
    "from PIL import Image"
   ]
  },
  {
   "cell_type": "code",
   "execution_count": 4,
   "metadata": {
    "colab": {
     "base_uri": "https://localhost:8080/",
     "height": 54
    },
    "colab_type": "code",
    "id": "YWU4gkLTM40R",
    "outputId": "e1a2f9ed-f45f-4560-de2b-acb0c54aff43"
   },
   "outputs": [
    {
     "name": "stdout",
     "output_type": "stream",
     "text": [
      "Downloading data from https://www.cs.toronto.edu/~kriz/cifar-10-python.tar.gz\n",
      "170500096/170498071 [==============================] - 6s 0us/step\n"
     ]
    }
   ],
   "source": [
    "(X_train,y_train), (X_test,y_test)=cifar10.load_data()"
   ]
  },
  {
   "cell_type": "code",
   "execution_count": 5,
   "metadata": {
    "colab": {
     "base_uri": "https://localhost:8080/",
     "height": 54
    },
    "colab_type": "code",
    "id": "gHz5h-eyM7NZ",
    "outputId": "6bb1e8f6-d310-467b-b1e9-bca999bc6def"
   },
   "outputs": [
    {
     "name": "stdout",
     "output_type": "stream",
     "text": [
      "(50000, 32, 32, 3)\n",
      "(10000, 32, 32, 3)\n"
     ]
    }
   ],
   "source": [
    "print(X_train.shape)\n",
    "print(X_test.shape)"
   ]
  },
  {
   "cell_type": "code",
   "execution_count": 6,
   "metadata": {
    "colab": {
     "base_uri": "https://localhost:8080/",
     "height": 35
    },
    "colab_type": "code",
    "id": "6pjealYfM93I",
    "outputId": "0bc6b983-f405-471c-af9c-62c10e07be9e"
   },
   "outputs": [
    {
     "name": "stdout",
     "output_type": "stream",
     "text": [
      "(32, 32, 3)\n"
     ]
    }
   ],
   "source": [
    "# a single image\n",
    "print(X_train[0].shape)"
   ]
  },
  {
   "cell_type": "code",
   "execution_count": 7,
   "metadata": {
    "colab": {
     "base_uri": "https://localhost:8080/",
     "height": 54
    },
    "colab_type": "code",
    "id": "xIlNsckYM_yg",
    "outputId": "6aae57f6-3c8b-4681-a60d-f7afae31563f"
   },
   "outputs": [
    {
     "data": {
      "text/plain": [
       "(array([    0,    19,    22, ..., 49962, 49966, 49996]),\n",
       " array([0, 0, 0, ..., 0, 0, 0]))"
      ]
     },
     "execution_count": 7,
     "metadata": {
      "tags": []
     },
     "output_type": "execute_result"
    }
   ],
   "source": [
    "np.where(y_train[:]==6)"
   ]
  },
  {
   "cell_type": "code",
   "execution_count": 8,
   "metadata": {
    "colab": {
     "base_uri": "https://localhost:8080/",
     "height": 378
    },
    "colab_type": "code",
    "id": "GPGcAKrzNCQr",
    "outputId": "d0c415ec-0008-4195-84ac-4f004e404913"
   },
   "outputs": [
    {
     "data": {
      "image/png": "[encoded data removed]",
      "text/plain": [
       "<Figure size 720x432 with 9 Axes>"
      ]
     },
     "metadata": {
      "tags": []
     },
     "output_type": "display_data"
    }
   ],
   "source": [
    "fig,ax=plt.subplots(3,3,figsize=(10,6))\n",
    "\n",
    "for idx,axes in enumerate(ax.flatten()):\n",
    "    axes.imshow(X_train[idx])\n",
    "plt.show()"
   ]
  },
  {
   "cell_type": "code",
   "execution_count": null,
   "metadata": {
    "colab": {},
    "colab_type": "code",
    "id": "eeNRQgAmNEYq"
   },
   "outputs": [],
   "source": [
    "# lets normalize the features\n",
    "np.random.seed(6)\n",
    "(X_train,y_train), (X_test,y_test)=cifar10.load_data()\n",
    "\n",
    "X_train=X_train.astype(\"float32\")\n",
    "X_test=X_test.astype(\"float32\")\n",
    "\n",
    "\n",
    "X_train/= 255.0\n",
    "X_test/= 255.0"
   ]
  },
  {
   "cell_type": "code",
   "execution_count": 10,
   "metadata": {
    "colab": {
     "base_uri": "https://localhost:8080/",
     "height": 54
    },
    "colab_type": "code",
    "id": "myXh1w5cNHWM",
    "outputId": "847ee78b-add2-40e8-ba61-e8f5842dd3b3"
   },
   "outputs": [
    {
     "name": "stdout",
     "output_type": "stream",
     "text": [
      "(50000, 1)\n",
      "[6]\n"
     ]
    }
   ],
   "source": [
    "# lets explore class labels\n",
    "\n",
    "print(y_train.shape)\n",
    "print(y_train[0])"
   ]
  },
  {
   "cell_type": "code",
   "execution_count": 11,
   "metadata": {
    "colab": {
     "base_uri": "https://localhost:8080/",
     "height": 917
    },
    "colab_type": "code",
    "id": "EaGoGxGKNJ8N",
    "outputId": "259aad33-79f4-46e5-9e1d-9edc4dadd635"
   },
   "outputs": [
    {
     "data": {
      "text/plain": [
       "array([[[0.23137255, 0.24313726, 0.24705882],\n",
       "        [0.16862746, 0.18039216, 0.1764706 ],\n",
       "        [0.19607843, 0.1882353 , 0.16862746],\n",
       "        ...,\n",
       "        [0.61960787, 0.5176471 , 0.42352942],\n",
       "        [0.59607846, 0.49019608, 0.4       ],\n",
       "        [0.5803922 , 0.4862745 , 0.40392157]],\n",
       "\n",
       "       [[0.0627451 , 0.07843138, 0.07843138],\n",
       "        [0.        , 0.        , 0.        ],\n",
       "        [0.07058824, 0.03137255, 0.        ],\n",
       "        ...,\n",
       "        [0.48235294, 0.34509805, 0.21568628],\n",
       "        [0.46666667, 0.3254902 , 0.19607843],\n",
       "        [0.47843137, 0.34117648, 0.22352941]],\n",
       "\n",
       "       [[0.09803922, 0.09411765, 0.08235294],\n",
       "        [0.0627451 , 0.02745098, 0.        ],\n",
       "        [0.19215687, 0.10588235, 0.03137255],\n",
       "        ...,\n",
       "        [0.4627451 , 0.32941177, 0.19607843],\n",
       "        [0.47058824, 0.32941177, 0.19607843],\n",
       "        [0.42745098, 0.28627452, 0.16470589]],\n",
       "\n",
       "       ...,\n",
       "\n",
       "       [[0.8156863 , 0.6666667 , 0.3764706 ],\n",
       "        [0.7882353 , 0.6       , 0.13333334],\n",
       "        [0.7764706 , 0.6313726 , 0.10196079],\n",
       "        ...,\n",
       "        [0.627451  , 0.52156866, 0.27450982],\n",
       "        [0.21960784, 0.12156863, 0.02745098],\n",
       "        [0.20784314, 0.13333334, 0.07843138]],\n",
       "\n",
       "       [[0.7058824 , 0.54509807, 0.3764706 ],\n",
       "        [0.6784314 , 0.48235294, 0.16470589],\n",
       "        [0.7294118 , 0.5647059 , 0.11764706],\n",
       "        ...,\n",
       "        [0.72156864, 0.5803922 , 0.36862746],\n",
       "        [0.38039216, 0.24313726, 0.13333334],\n",
       "        [0.3254902 , 0.20784314, 0.13333334]],\n",
       "\n",
       "       [[0.69411767, 0.5647059 , 0.45490196],\n",
       "        [0.65882355, 0.5058824 , 0.36862746],\n",
       "        [0.7019608 , 0.5568628 , 0.34117648],\n",
       "        ...,\n",
       "        [0.84705883, 0.72156864, 0.54901963],\n",
       "        [0.5921569 , 0.4627451 , 0.32941177],\n",
       "        [0.48235294, 0.36078432, 0.28235295]]], dtype=float32)"
      ]
     },
     "execution_count": 11,
     "metadata": {
      "tags": []
     },
     "output_type": "execute_result"
    }
   ],
   "source": [
    "X_train[0]"
   ]
  },
  {
   "cell_type": "code",
   "execution_count": null,
   "metadata": {
    "colab": {},
    "colab_type": "code",
    "id": "KXFjBdFiNM2t"
   },
   "outputs": [],
   "source": [
    "# one hot encoding\n",
    "\n",
    "y_train=np_utils.to_categorical(y_train)\n",
    "y_test=np_utils.to_categorical(y_test)\n",
    "\n",
    "num_class=y_test.shape[1]"
   ]
  },
  {
   "cell_type": "code",
   "execution_count": 13,
   "metadata": {
    "colab": {
     "base_uri": "https://localhost:8080/",
     "height": 35
    },
    "colab_type": "code",
    "id": "w80PybhqNPJL",
    "outputId": "176f4733-acee-40cd-a7c1-37f07301a7dc"
   },
   "outputs": [
    {
     "name": "stdout",
     "output_type": "stream",
     "text": [
      "[0. 0. 0. 0. 0. 0. 1. 0. 0. 0.]\n"
     ]
    }
   ],
   "source": [
    "print(y_train[0])"
   ]
  },
  {
   "cell_type": "markdown",
   "metadata": {
    "colab_type": "text",
    "id": "QQFTmlM1NXw9"
   },
   "source": [
    "# CNN"
   ]
  },
  {
   "cell_type": "code",
   "execution_count": null,
   "metadata": {
    "colab": {},
    "colab_type": "code",
    "id": "c66CKF-HNbvz"
   },
   "outputs": [],
   "source": [
    "from keras.models import Sequential\n",
    "from keras.layers import Dropout,Activation,Conv2D, GlobalAveragePooling2D\n",
    "from keras.optimizers import SGD"
   ]
  },
  {
   "cell_type": "code",
   "execution_count": null,
   "metadata": {
    "colab": {},
    "colab_type": "code",
    "id": "gT-sRL1QNeCL"
   },
   "outputs": [],
   "source": [
    "def allcnn(weights=None):\n",
    "    model=Sequential()\n",
    "    \n",
    "    model.add(Conv2D(96,(3,3),padding='same',input_shape=(32,32,3)))\n",
    "    model.add(Activation('relu'))\n",
    "    model.add(Conv2D(96,(3,3),padding='same'))\n",
    "    model.add(Activation('relu'))\n",
    "    model.add(Conv2D(96,(3,3),padding='same',strides=(2,2)))\n",
    "    model.add(Dropout(0.5))\n",
    "    \n",
    "    model.add(Conv2D(192,(3,3),padding='same'))\n",
    "    model.add(Activation('relu'))\n",
    "    model.add(Conv2D(192,(3,3),padding='same'))\n",
    "    model.add(Activation('relu'))\n",
    "    model.add(Conv2D(192,(3,3),padding='same',strides=(2,2)))\n",
    "    model.add(Dropout(0.5))\n",
    "    \n",
    "    model.add(Conv2D(192,(3,3),padding='same'))\n",
    "    model.add(Activation('relu'))\n",
    "    model.add(Conv2D(192,(1,1),padding='valid'))\n",
    "    model.add(Activation('relu'))\n",
    "    model.add(Conv2D(10,(1,1),padding='valid'))\n",
    "    \n",
    "    \n",
    "    model.add(GlobalAveragePooling2D())\n",
    "    model.add(Activation('softmax'))\n",
    "    \n",
    "    if weights:\n",
    "        model.load_weights(weights)\n",
    "        \n",
    "    return model"
   ]
  },
  {
   "cell_type": "code",
   "execution_count": 16,
   "metadata": {
    "colab": {
     "base_uri": "https://localhost:8080/",
     "height": 1000
    },
    "colab_type": "code",
    "id": "3q2IPaLgOxQV",
    "outputId": "46ecc058-f382-4d1b-a587-81c597088f76"
   },
   "outputs": [
    {
     "name": "stderr",
     "output_type": "stream",
     "text": [
      "WARNING: Logging before flag parsing goes to stderr.\n",
      "W0708 06:17:51.842870 140687963522944 deprecation_wrapper.py:119] From /usr/local/lib/python3.6/dist-packages/keras/backend/tensorflow_backend.py:74: The name tf.get_default_graph is deprecated. Please use tf.compat.v1.get_default_graph instead.\n",
      "\n",
      "W0708 06:17:51.850534 140687963522944 deprecation_wrapper.py:119] From /usr/local/lib/python3.6/dist-packages/keras/backend/tensorflow_backend.py:517: The name tf.placeholder is deprecated. Please use tf.compat.v1.placeholder instead.\n",
      "\n",
      "W0708 06:17:51.863790 140687963522944 deprecation_wrapper.py:119] From /usr/local/lib/python3.6/dist-packages/keras/backend/tensorflow_backend.py:4138: The name tf.random_uniform is deprecated. Please use tf.random.uniform instead.\n",
      "\n",
      "W0708 06:17:51.930587 140687963522944 deprecation_wrapper.py:119] From /usr/local/lib/python3.6/dist-packages/keras/backend/tensorflow_backend.py:133: The name tf.placeholder_with_default is deprecated. Please use tf.compat.v1.placeholder_with_default instead.\n",
      "\n",
      "W0708 06:17:51.946048 140687963522944 deprecation.py:506] From /usr/local/lib/python3.6/dist-packages/keras/backend/tensorflow_backend.py:3445: calling dropout (from tensorflow.python.ops.nn_ops) with keep_prob is deprecated and will be removed in a future version.\n",
      "Instructions for updating:\n",
      "Please use `rate` instead of `keep_prob`. Rate should be set to `rate = 1 - keep_prob`.\n",
      "W0708 06:17:52.265933 140687963522944 deprecation_wrapper.py:119] From /usr/local/lib/python3.6/dist-packages/keras/optimizers.py:790: The name tf.train.Optimizer is deprecated. Please use tf.compat.v1.train.Optimizer instead.\n",
      "\n",
      "W0708 06:17:52.279148 140687963522944 deprecation_wrapper.py:119] From /usr/local/lib/python3.6/dist-packages/keras/backend/tensorflow_backend.py:3295: The name tf.log is deprecated. Please use tf.math.log instead.\n",
      "\n"
     ]
    },
    {
     "name": "stdout",
     "output_type": "stream",
     "text": [
      "_________________________________________________________________\n",
      "Layer (type)                 Output Shape              Param #   \n",
      "=================================================================\n",
      "conv2d_1 (Conv2D)            (None, 32, 32, 96)        2688      \n",
      "_________________________________________________________________\n",
      "activation_1 (Activation)    (None, 32, 32, 96)        0         \n",
      "_________________________________________________________________\n",
      "conv2d_2 (Conv2D)            (None, 32, 32, 96)        83040     \n",
      "_________________________________________________________________\n",
      "activation_2 (Activation)    (None, 32, 32, 96)        0         \n",
      "_________________________________________________________________\n",
      "conv2d_3 (Conv2D)            (None, 16, 16, 96)        83040     \n",
      "_________________________________________________________________\n",
      "dropout_1 (Dropout)          (None, 16, 16, 96)        0         \n",
      "_________________________________________________________________\n",
      "conv2d_4 (Conv2D)            (None, 16, 16, 192)       166080    \n",
      "_________________________________________________________________\n",
      "activation_3 (Activation)    (None, 16, 16, 192)       0         \n",
      "_________________________________________________________________\n",
      "conv2d_5 (Conv2D)            (None, 16, 16, 192)       331968    \n",
      "_________________________________________________________________\n",
      "activation_4 (Activation)    (None, 16, 16, 192)       0         \n",
      "_________________________________________________________________\n",
      "conv2d_6 (Conv2D)            (None, 8, 8, 192)         331968    \n",
      "_________________________________________________________________\n",
      "dropout_2 (Dropout)          (None, 8, 8, 192)         0         \n",
      "_________________________________________________________________\n",
      "conv2d_7 (Conv2D)            (None, 8, 8, 192)         331968    \n",
      "_________________________________________________________________\n",
      "activation_5 (Activation)    (None, 8, 8, 192)         0         \n",
      "_________________________________________________________________\n",
      "conv2d_8 (Conv2D)            (None, 8, 8, 192)         37056     \n",
      "_________________________________________________________________\n",
      "activation_6 (Activation)    (None, 8, 8, 192)         0         \n",
      "_________________________________________________________________\n",
      "conv2d_9 (Conv2D)            (None, 8, 8, 10)          1930      \n",
      "_________________________________________________________________\n",
      "global_average_pooling2d_1 ( (None, 10)                0         \n",
      "_________________________________________________________________\n",
      "activation_7 (Activation)    (None, 10)                0         \n",
      "=================================================================\n",
      "Total params: 1,369,738\n",
      "Trainable params: 1,369,738\n",
      "Non-trainable params: 0\n",
      "_________________________________________________________________\n"
     ]
    }
   ],
   "source": [
    "# learning_rate=0.01\n",
    "# weight_decay=1e-6\n",
    "# momentum=0.9\n",
    "\n",
    "model=allcnn()\n",
    "\n",
    "sgd=SGD(lr=0.01,decay=1e-6,momentum=0.9,nesterov=True)\n",
    "model.compile(loss='categorical_crossentropy',optimizer=sgd,metrics=['accuracy'])\n",
    "model.summary()"
   ]
  },
  {
   "cell_type": "code",
   "execution_count": 17,
   "metadata": {
    "colab": {
     "base_uri": "https://localhost:8080/",
     "height": 1000
    },
    "colab_type": "code",
    "id": "hZM8dDRbOzuQ",
    "outputId": "2afb20ee-d356-4930-c71a-de4ba9115c74"
   },
   "outputs": [
    {
     "name": "stderr",
     "output_type": "stream",
     "text": [
      "W0708 06:18:05.767228 140687963522944 deprecation.py:323] From /usr/local/lib/python3.6/dist-packages/tensorflow/python/ops/math_grad.py:1250: add_dispatch_support.<locals>.wrapper (from tensorflow.python.ops.array_ops) is deprecated and will be removed in a future version.\n",
      "Instructions for updating:\n",
      "Use tf.where in 2.0, which has the same broadcast rule as np.where\n"
     ]
    },
    {
     "name": "stdout",
     "output_type": "stream",
     "text": [
      "Train on 50000 samples, validate on 10000 samples\n",
      "Epoch 1/350\n",
      "50000/50000 [==============================] - 72s 1ms/step - loss: 1.9975 - acc: 0.2429 - val_loss: 1.6704 - val_acc: 0.3783\n",
      "Epoch 2/350\n",
      "50000/50000 [==============================] - 67s 1ms/step - loss: 1.5148 - acc: 0.4396 - val_loss: 1.3258 - val_acc: 0.5218\n",
      "Epoch 3/350\n",
      "50000/50000 [==============================] - 67s 1ms/step - loss: 1.2262 - acc: 0.5556 - val_loss: 1.1430 - val_acc: 0.5913\n",
      "Epoch 4/350\n",
      "50000/50000 [==============================] - 67s 1ms/step - loss: 1.0304 - acc: 0.6331 - val_loss: 0.9765 - val_acc: 0.6537\n",
      "Epoch 5/350\n",
      "50000/50000 [==============================] - 67s 1ms/step - loss: 0.9033 - acc: 0.6797 - val_loss: 0.8622 - val_acc: 0.6941\n",
      "Epoch 6/350\n",
      "50000/50000 [==============================] - 67s 1ms/step - loss: 0.8108 - acc: 0.7139 - val_loss: 0.7843 - val_acc: 0.7232\n",
      "Epoch 7/350\n",
      "50000/50000 [==============================] - 66s 1ms/step - loss: 0.7260 - acc: 0.7462 - val_loss: 0.6976 - val_acc: 0.7580\n",
      "Epoch 8/350\n",
      "50000/50000 [==============================] - 66s 1ms/step - loss: 0.6624 - acc: 0.7685 - val_loss: 0.7466 - val_acc: 0.7514\n",
      "Epoch 9/350\n",
      "50000/50000 [==============================] - 66s 1ms/step - loss: 0.6102 - acc: 0.7869 - val_loss: 0.6565 - val_acc: 0.7820\n",
      "Epoch 10/350\n",
      "50000/50000 [==============================] - 66s 1ms/step - loss: 0.5642 - acc: 0.8018 - val_loss: 0.6530 - val_acc: 0.7868\n",
      "Epoch 11/350\n",
      "50000/50000 [==============================] - 66s 1ms/step - loss: 0.5281 - acc: 0.8150 - val_loss: 0.6159 - val_acc: 0.7969\n",
      "Epoch 12/350\n",
      "50000/50000 [==============================] - 66s 1ms/step - loss: 0.4909 - acc: 0.8253 - val_loss: 0.6110 - val_acc: 0.7990\n",
      "Epoch 13/350\n",
      "50000/50000 [==============================] - 66s 1ms/step - loss: 0.4635 - acc: 0.8369 - val_loss: 0.6313 - val_acc: 0.8015\n",
      "Epoch 14/350\n",
      "50000/50000 [==============================] - 66s 1ms/step - loss: 0.4362 - acc: 0.8454 - val_loss: 0.6205 - val_acc: 0.8074\n",
      "Epoch 15/350\n",
      "50000/50000 [==============================] - 66s 1ms/step - loss: 0.4132 - acc: 0.8536 - val_loss: 0.6145 - val_acc: 0.8025\n",
      "Epoch 16/350\n",
      "50000/50000 [==============================] - 66s 1ms/step - loss: 0.3911 - acc: 0.8629 - val_loss: 0.6466 - val_acc: 0.8136\n",
      "Epoch 17/350\n",
      "50000/50000 [==============================] - 66s 1ms/step - loss: 0.3792 - acc: 0.8670 - val_loss: 0.6344 - val_acc: 0.7991\n",
      "Epoch 18/350\n",
      "50000/50000 [==============================] - 66s 1ms/step - loss: 0.3550 - acc: 0.8739 - val_loss: 0.6417 - val_acc: 0.8147\n",
      "Epoch 19/350\n",
      "50000/50000 [==============================] - 66s 1ms/step - loss: 0.3443 - acc: 0.8808 - val_loss: 0.6190 - val_acc: 0.8215\n",
      "Epoch 20/350\n",
      "50000/50000 [==============================] - 66s 1ms/step - loss: 0.3300 - acc: 0.8818 - val_loss: 0.6766 - val_acc: 0.8069\n",
      "Epoch 21/350\n",
      "50000/50000 [==============================] - 66s 1ms/step - loss: 0.3159 - acc: 0.8882 - val_loss: 0.6508 - val_acc: 0.8137\n",
      "Epoch 22/350\n",
      "50000/50000 [==============================] - 66s 1ms/step - loss: 0.3102 - acc: 0.8871 - val_loss: 0.6609 - val_acc: 0.8148\n",
      "Epoch 23/350\n",
      "50000/50000 [==============================] - 66s 1ms/step - loss: 0.2983 - acc: 0.8942 - val_loss: 0.7333 - val_acc: 0.8096\n",
      "Epoch 24/350\n",
      "50000/50000 [==============================] - 66s 1ms/step - loss: 0.2866 - acc: 0.8987 - val_loss: 0.6721 - val_acc: 0.8141\n",
      "Epoch 25/350\n",
      "50000/50000 [==============================] - 66s 1ms/step - loss: 0.2820 - acc: 0.8984 - val_loss: 0.6686 - val_acc: 0.8164\n",
      "Epoch 26/350\n",
      "50000/50000 [==============================] - 67s 1ms/step - loss: 0.2765 - acc: 0.9012 - val_loss: 0.6829 - val_acc: 0.8166\n",
      "Epoch 27/350\n",
      "50000/50000 [==============================] - 66s 1ms/step - loss: 0.2689 - acc: 0.9043 - val_loss: 0.8186 - val_acc: 0.8139\n",
      "Epoch 28/350\n",
      "50000/50000 [==============================] - 67s 1ms/step - loss: 0.2630 - acc: 0.9068 - val_loss: 0.7182 - val_acc: 0.8154\n",
      "Epoch 29/350\n",
      "50000/50000 [==============================] - 67s 1ms/step - loss: 0.2516 - acc: 0.9103 - val_loss: 0.7210 - val_acc: 0.8152\n",
      "Epoch 30/350\n",
      "50000/50000 [==============================] - 67s 1ms/step - loss: 0.2571 - acc: 0.9085 - val_loss: 0.7318 - val_acc: 0.8196\n",
      "Epoch 31/350\n",
      "50000/50000 [==============================] - 66s 1ms/step - loss: 0.2508 - acc: 0.9112 - val_loss: 0.6940 - val_acc: 0.8245\n",
      "Epoch 32/350\n",
      "50000/50000 [==============================] - 66s 1ms/step - loss: 0.2422 - acc: 0.9150 - val_loss: 0.7889 - val_acc: 0.8099\n",
      "Epoch 33/350\n",
      "50000/50000 [==============================] - 66s 1ms/step - loss: 0.2419 - acc: 0.9154 - val_loss: 0.8149 - val_acc: 0.8059\n",
      "Epoch 34/350\n",
      "50000/50000 [==============================] - 66s 1ms/step - loss: 0.2273 - acc: 0.9203 - val_loss: 0.7289 - val_acc: 0.8191\n",
      "Epoch 35/350\n",
      "50000/50000 [==============================] - 65s 1ms/step - loss: 0.2267 - acc: 0.9205 - val_loss: 0.8187 - val_acc: 0.8154\n",
      "Epoch 36/350\n",
      "50000/50000 [==============================] - 66s 1ms/step - loss: 0.2322 - acc: 0.9172 - val_loss: 0.8234 - val_acc: 0.8075\n",
      "Epoch 37/350\n",
      "50000/50000 [==============================] - 66s 1ms/step - loss: 0.2256 - acc: 0.9209 - val_loss: 0.7538 - val_acc: 0.8207\n",
      "Epoch 38/350\n",
      "50000/50000 [==============================] - 66s 1ms/step - loss: 0.2299 - acc: 0.9207 - val_loss: 0.8245 - val_acc: 0.8210\n",
      "Epoch 39/350\n",
      "50000/50000 [==============================] - 65s 1ms/step - loss: 0.2163 - acc: 0.9244 - val_loss: 0.8486 - val_acc: 0.8037\n",
      "Epoch 40/350\n",
      "50000/50000 [==============================] - 65s 1ms/step - loss: 0.2164 - acc: 0.9231 - val_loss: 0.8467 - val_acc: 0.7984\n",
      "Epoch 41/350\n",
      "50000/50000 [==============================] - 65s 1ms/step - loss: 0.2234 - acc: 0.9214 - val_loss: 0.7781 - val_acc: 0.8213\n",
      "Epoch 42/350\n",
      "50000/50000 [==============================] - 65s 1ms/step - loss: 0.2193 - acc: 0.9237 - val_loss: 0.8055 - val_acc: 0.8198\n",
      "Epoch 43/350\n",
      "50000/50000 [==============================] - 66s 1ms/step - loss: 0.2108 - acc: 0.9270 - val_loss: 0.8024 - val_acc: 0.8232\n",
      "Epoch 44/350\n",
      "50000/50000 [==============================] - 66s 1ms/step - loss: 0.2173 - acc: 0.9241 - val_loss: 0.8215 - val_acc: 0.8086\n",
      "Epoch 45/350\n",
      "50000/50000 [==============================] - 65s 1ms/step - loss: 0.2174 - acc: 0.9239 - val_loss: 0.8094 - val_acc: 0.8217\n",
      "Epoch 46/350\n",
      "50000/50000 [==============================] - 65s 1ms/step - loss: 0.2098 - acc: 0.9262 - val_loss: 0.8247 - val_acc: 0.8213\n",
      "Epoch 47/350\n",
      "50000/50000 [==============================] - 66s 1ms/step - loss: 0.1995 - acc: 0.9307 - val_loss: 0.9231 - val_acc: 0.8169\n",
      "Epoch 48/350\n",
      "50000/50000 [==============================] - 66s 1ms/step - loss: 0.2038 - acc: 0.9297 - val_loss: 0.8952 - val_acc: 0.8102\n",
      "Epoch 49/350\n",
      "50000/50000 [==============================] - 65s 1ms/step - loss: 0.2034 - acc: 0.9295 - val_loss: 0.7791 - val_acc: 0.8184\n",
      "Epoch 50/350\n",
      "50000/50000 [==============================] - 66s 1ms/step - loss: 0.2076 - acc: 0.9288 - val_loss: 0.7862 - val_acc: 0.8252\n",
      "Epoch 51/350\n",
      "50000/50000 [==============================] - 66s 1ms/step - loss: 0.1994 - acc: 0.9316 - val_loss: 0.8614 - val_acc: 0.8122\n",
      "Epoch 52/350\n",
      "50000/50000 [==============================] - 65s 1ms/step - loss: 0.2056 - acc: 0.9285 - val_loss: 0.8931 - val_acc: 0.8191\n",
      "Epoch 53/350\n",
      "50000/50000 [==============================] - 65s 1ms/step - loss: 0.1981 - acc: 0.9316 - val_loss: 0.8302 - val_acc: 0.8228\n",
      "Epoch 54/350\n",
      "50000/50000 [==============================] - 65s 1ms/step - loss: 0.2026 - acc: 0.9293 - val_loss: 0.8686 - val_acc: 0.8172\n",
      "Epoch 55/350\n",
      "50000/50000 [==============================] - 65s 1ms/step - loss: 0.2081 - acc: 0.9278 - val_loss: 0.8742 - val_acc: 0.8191\n",
      "Epoch 56/350\n",
      "50000/50000 [==============================] - 66s 1ms/step - loss: 0.1956 - acc: 0.9330 - val_loss: 0.8098 - val_acc: 0.8200\n",
      "Epoch 57/350\n",
      "50000/50000 [==============================] - 66s 1ms/step - loss: 0.1967 - acc: 0.9328 - val_loss: 0.8340 - val_acc: 0.8181\n",
      "Epoch 58/350\n",
      "50000/50000 [==============================] - 67s 1ms/step - loss: 0.1989 - acc: 0.9312 - val_loss: 0.8606 - val_acc: 0.8281\n",
      "Epoch 59/350\n",
      "50000/50000 [==============================] - 67s 1ms/step - loss: 0.1975 - acc: 0.9320 - val_loss: 0.8169 - val_acc: 0.8142\n",
      "Epoch 60/350\n",
      "50000/50000 [==============================] - 67s 1ms/step - loss: 0.2003 - acc: 0.9316 - val_loss: 0.8362 - val_acc: 0.8193\n",
      "Epoch 61/350\n",
      "50000/50000 [==============================] - 67s 1ms/step - loss: 0.1992 - acc: 0.9322 - val_loss: 0.8432 - val_acc: 0.8174\n",
      "Epoch 62/350\n",
      "50000/50000 [==============================] - 67s 1ms/step - loss: 0.1954 - acc: 0.9329 - val_loss: 0.9509 - val_acc: 0.8243\n",
      "Epoch 63/350\n",
      "50000/50000 [==============================] - 66s 1ms/step - loss: 0.1933 - acc: 0.9336 - val_loss: 0.8748 - val_acc: 0.8195\n",
      "Epoch 64/350\n",
      "50000/50000 [==============================] - 66s 1ms/step - loss: 0.1997 - acc: 0.9307 - val_loss: 0.9184 - val_acc: 0.8195\n",
      "Epoch 65/350\n",
      "50000/50000 [==============================] - 66s 1ms/step - loss: 0.1891 - acc: 0.9364 - val_loss: 0.9244 - val_acc: 0.8233\n",
      "Epoch 66/350\n",
      "50000/50000 [==============================] - 67s 1ms/step - loss: 0.1898 - acc: 0.9361 - val_loss: 0.8386 - val_acc: 0.8241\n",
      "Epoch 67/350\n",
      "50000/50000 [==============================] - 66s 1ms/step - loss: 0.1882 - acc: 0.9357 - val_loss: 0.8695 - val_acc: 0.8186\n",
      "Epoch 68/350\n",
      "50000/50000 [==============================] - 66s 1ms/step - loss: 0.1861 - acc: 0.9366 - val_loss: 0.8641 - val_acc: 0.8211\n",
      "Epoch 69/350\n",
      "50000/50000 [==============================] - 66s 1ms/step - loss: 0.1865 - acc: 0.9359 - val_loss: 0.9146 - val_acc: 0.8254\n",
      "Epoch 70/350\n",
      "50000/50000 [==============================] - 66s 1ms/step - loss: 0.1836 - acc: 0.9380 - val_loss: 0.9081 - val_acc: 0.8195\n",
      "Epoch 71/350\n",
      "50000/50000 [==============================] - 65s 1ms/step - loss: 0.1879 - acc: 0.9355 - val_loss: 0.9330 - val_acc: 0.8182\n",
      "Epoch 72/350\n",
      "50000/50000 [==============================] - 66s 1ms/step - loss: 0.1932 - acc: 0.9344 - val_loss: 1.1035 - val_acc: 0.8019\n",
      "Epoch 73/350\n",
      "50000/50000 [==============================] - 65s 1ms/step - loss: 0.1944 - acc: 0.9344 - val_loss: 0.8939 - val_acc: 0.8185\n",
      "Epoch 74/350\n",
      "50000/50000 [==============================] - 65s 1ms/step - loss: 0.1899 - acc: 0.9372 - val_loss: 0.9784 - val_acc: 0.8241\n",
      "Epoch 75/350\n",
      "50000/50000 [==============================] - 65s 1ms/step - loss: 0.1878 - acc: 0.9350 - val_loss: 0.9498 - val_acc: 0.8237\n",
      "Epoch 76/350\n",
      "50000/50000 [==============================] - 65s 1ms/step - loss: 0.1900 - acc: 0.9346 - val_loss: 0.9059 - val_acc: 0.8234\n",
      "Epoch 77/350\n",
      "50000/50000 [==============================] - 65s 1ms/step - loss: 0.1962 - acc: 0.9332 - val_loss: 1.0251 - val_acc: 0.8193\n",
      "Epoch 78/350\n",
      "50000/50000 [==============================] - 65s 1ms/step - loss: 0.1956 - acc: 0.9341 - val_loss: 0.9190 - val_acc: 0.8207\n",
      "Epoch 79/350\n",
      "50000/50000 [==============================] - 65s 1ms/step - loss: 0.1887 - acc: 0.9348 - val_loss: 1.0193 - val_acc: 0.8203\n",
      "Epoch 80/350\n",
      "50000/50000 [==============================] - 65s 1ms/step - loss: 0.2009 - acc: 0.9333 - val_loss: 0.8655 - val_acc: 0.8239\n",
      "Epoch 81/350\n",
      "50000/50000 [==============================] - 65s 1ms/step - loss: 0.1911 - acc: 0.9364 - val_loss: 1.0944 - val_acc: 0.8182\n",
      "Epoch 82/350\n",
      "50000/50000 [==============================] - 65s 1ms/step - loss: 0.1879 - acc: 0.9373 - val_loss: 0.9613 - val_acc: 0.8248\n",
      "Epoch 83/350\n",
      "50000/50000 [==============================] - 65s 1ms/step - loss: 0.1934 - acc: 0.9347 - val_loss: 1.0008 - val_acc: 0.8228\n",
      "Epoch 84/350\n",
      "50000/50000 [==============================] - 65s 1ms/step - loss: 0.1897 - acc: 0.9362 - val_loss: 1.0360 - val_acc: 0.8209\n",
      "Epoch 85/350\n",
      "50000/50000 [==============================] - 66s 1ms/step - loss: 0.1984 - acc: 0.9342 - val_loss: 0.9169 - val_acc: 0.8239\n",
      "Epoch 86/350\n",
      "50000/50000 [==============================] - 65s 1ms/step - loss: 0.1945 - acc: 0.9358 - val_loss: 0.9549 - val_acc: 0.8209\n",
      "Epoch 87/350\n",
      "50000/50000 [==============================] - 65s 1ms/step - loss: 0.1838 - acc: 0.9376 - val_loss: 0.9782 - val_acc: 0.8220\n",
      "Epoch 88/350\n",
      "50000/50000 [==============================] - 65s 1ms/step - loss: 0.1992 - acc: 0.9350 - val_loss: 0.9460 - val_acc: 0.8136\n",
      "Epoch 89/350\n",
      "50000/50000 [==============================] - 65s 1ms/step - loss: 0.1901 - acc: 0.9369 - val_loss: 0.9400 - val_acc: 0.8203\n",
      "Epoch 90/350\n",
      "50000/50000 [==============================] - 66s 1ms/step - loss: 0.1881 - acc: 0.9367 - val_loss: 0.9211 - val_acc: 0.8199\n",
      "Epoch 91/350\n",
      "50000/50000 [==============================] - 65s 1ms/step - loss: 0.1846 - acc: 0.9396 - val_loss: 0.9932 - val_acc: 0.8239\n",
      "Epoch 92/350\n",
      "50000/50000 [==============================] - 65s 1ms/step - loss: 0.1939 - acc: 0.9356 - val_loss: 0.9564 - val_acc: 0.8206\n",
      "Epoch 93/350\n",
      "50000/50000 [==============================] - 65s 1ms/step - loss: 0.1829 - acc: 0.9396 - val_loss: 0.9914 - val_acc: 0.8224\n",
      "Epoch 94/350\n",
      "50000/50000 [==============================] - 65s 1ms/step - loss: 0.1858 - acc: 0.9383 - val_loss: 0.9928 - val_acc: 0.8236\n",
      "Epoch 95/350\n",
      "50000/50000 [==============================] - 65s 1ms/step - loss: 0.1876 - acc: 0.9370 - val_loss: 1.0772 - val_acc: 0.8177\n",
      "Epoch 96/350\n",
      "50000/50000 [==============================] - 65s 1ms/step - loss: 0.1927 - acc: 0.9359 - val_loss: 0.9788 - val_acc: 0.8219\n",
      "Epoch 97/350\n",
      "50000/50000 [==============================] - 65s 1ms/step - loss: 0.1856 - acc: 0.9382 - val_loss: 1.0429 - val_acc: 0.8114\n",
      "Epoch 98/350\n",
      "50000/50000 [==============================] - 66s 1ms/step - loss: 0.1897 - acc: 0.9381 - val_loss: 0.9697 - val_acc: 0.8197\n",
      "Epoch 99/350\n",
      "50000/50000 [==============================] - 65s 1ms/step - loss: 0.1846 - acc: 0.9378 - val_loss: 1.0044 - val_acc: 0.8205\n",
      "Epoch 100/350\n",
      "50000/50000 [==============================] - 66s 1ms/step - loss: 0.1962 - acc: 0.9352 - val_loss: 0.9929 - val_acc: 0.8078\n",
      "Epoch 101/350\n",
      "50000/50000 [==============================] - 66s 1ms/step - loss: 0.1918 - acc: 0.9372 - val_loss: 1.0096 - val_acc: 0.8214\n",
      "Epoch 102/350\n",
      "50000/50000 [==============================] - 66s 1ms/step - loss: 0.1888 - acc: 0.9368 - val_loss: 0.9619 - val_acc: 0.8206\n",
      "Epoch 103/350\n",
      "50000/50000 [==============================] - 66s 1ms/step - loss: 0.1817 - acc: 0.9396 - val_loss: 1.0177 - val_acc: 0.8259\n",
      "Epoch 104/350\n",
      "50000/50000 [==============================] - 66s 1ms/step - loss: 0.1828 - acc: 0.9403 - val_loss: 1.0263 - val_acc: 0.8213\n",
      "Epoch 105/350\n",
      "50000/50000 [==============================] - 66s 1ms/step - loss: 0.1857 - acc: 0.9389 - val_loss: 1.1931 - val_acc: 0.8066\n",
      "Epoch 106/350\n",
      "50000/50000 [==============================] - 65s 1ms/step - loss: 0.1898 - acc: 0.9380 - val_loss: 1.0420 - val_acc: 0.8219\n",
      "Epoch 107/350\n",
      "50000/50000 [==============================] - 65s 1ms/step - loss: 0.1924 - acc: 0.9367 - val_loss: 1.0441 - val_acc: 0.8186\n",
      "Epoch 108/350\n",
      "50000/50000 [==============================] - 65s 1ms/step - loss: 0.1804 - acc: 0.9406 - val_loss: 1.1408 - val_acc: 0.8188\n",
      "Epoch 109/350\n",
      "50000/50000 [==============================] - 65s 1ms/step - loss: 0.1843 - acc: 0.9392 - val_loss: 1.0754 - val_acc: 0.8268\n",
      "Epoch 110/350\n",
      "50000/50000 [==============================] - 65s 1ms/step - loss: 0.1827 - acc: 0.9406 - val_loss: 0.8825 - val_acc: 0.8266\n",
      "Epoch 111/350\n",
      "50000/50000 [==============================] - 65s 1ms/step - loss: 0.1784 - acc: 0.9407 - val_loss: 1.1803 - val_acc: 0.8179\n",
      "Epoch 112/350\n",
      "50000/50000 [==============================] - 65s 1ms/step - loss: 0.1942 - acc: 0.9365 - val_loss: 1.0463 - val_acc: 0.8199\n",
      "Epoch 113/350\n",
      "50000/50000 [==============================] - 65s 1ms/step - loss: 0.1918 - acc: 0.9376 - val_loss: 0.9016 - val_acc: 0.8267\n",
      "Epoch 114/350\n",
      "50000/50000 [==============================] - 65s 1ms/step - loss: 0.1914 - acc: 0.9383 - val_loss: 1.0499 - val_acc: 0.8273\n",
      "Epoch 115/350\n",
      "50000/50000 [==============================] - 65s 1ms/step - loss: 0.1951 - acc: 0.9365 - val_loss: 1.0061 - val_acc: 0.8234\n",
      "Epoch 116/350\n",
      "50000/50000 [==============================] - 65s 1ms/step - loss: 0.1915 - acc: 0.9380 - val_loss: 1.1512 - val_acc: 0.8074\n",
      "Epoch 117/350\n",
      "50000/50000 [==============================] - 65s 1ms/step - loss: 0.1875 - acc: 0.9389 - val_loss: 1.1434 - val_acc: 0.7987\n",
      "Epoch 118/350\n",
      "50000/50000 [==============================] - 66s 1ms/step - loss: 0.1898 - acc: 0.9381 - val_loss: 1.0562 - val_acc: 0.8132\n",
      "Epoch 119/350\n",
      "50000/50000 [==============================] - 65s 1ms/step - loss: 0.1808 - acc: 0.9414 - val_loss: 1.0458 - val_acc: 0.8218\n",
      "Epoch 120/350\n",
      "50000/50000 [==============================] - 65s 1ms/step - loss: 0.1836 - acc: 0.9407 - val_loss: 1.0210 - val_acc: 0.8238\n",
      "Epoch 121/350\n",
      "50000/50000 [==============================] - 65s 1ms/step - loss: 0.1869 - acc: 0.9391 - val_loss: 1.0869 - val_acc: 0.8311\n",
      "Epoch 122/350\n",
      "50000/50000 [==============================] - 65s 1ms/step - loss: 0.1826 - acc: 0.9398 - val_loss: 1.0532 - val_acc: 0.8182\n",
      "Epoch 123/350\n",
      "50000/50000 [==============================] - 65s 1ms/step - loss: 0.1953 - acc: 0.9372 - val_loss: 0.9981 - val_acc: 0.8236\n",
      "Epoch 124/350\n",
      "50000/50000 [==============================] - 65s 1ms/step - loss: 0.1816 - acc: 0.9408 - val_loss: 1.1040 - val_acc: 0.8244\n",
      "Epoch 125/350\n",
      "50000/50000 [==============================] - 65s 1ms/step - loss: 0.1948 - acc: 0.9374 - val_loss: 1.0438 - val_acc: 0.8192\n",
      "Epoch 126/350\n",
      "50000/50000 [==============================] - 65s 1ms/step - loss: 0.1848 - acc: 0.9410 - val_loss: 1.0490 - val_acc: 0.8220\n",
      "Epoch 127/350\n",
      "50000/50000 [==============================] - 66s 1ms/step - loss: 0.1767 - acc: 0.9420 - val_loss: 1.0894 - val_acc: 0.8174\n",
      "Epoch 128/350\n",
      "50000/50000 [==============================] - 66s 1ms/step - loss: 0.1918 - acc: 0.9384 - val_loss: 1.0150 - val_acc: 0.8223\n",
      "Epoch 129/350\n",
      "50000/50000 [==============================] - 65s 1ms/step - loss: 0.1804 - acc: 0.9410 - val_loss: 1.0839 - val_acc: 0.8162\n",
      "Epoch 130/350\n",
      "50000/50000 [==============================] - 65s 1ms/step - loss: 0.1795 - acc: 0.9429 - val_loss: 1.0492 - val_acc: 0.8161\n",
      "Epoch 131/350\n",
      "50000/50000 [==============================] - 65s 1ms/step - loss: 0.1827 - acc: 0.9411 - val_loss: 1.0294 - val_acc: 0.8250\n",
      "Epoch 132/350\n",
      "50000/50000 [==============================] - 65s 1ms/step - loss: 0.1835 - acc: 0.9415 - val_loss: 1.1136 - val_acc: 0.8176\n",
      "Epoch 133/350\n",
      "50000/50000 [==============================] - 65s 1ms/step - loss: 0.1829 - acc: 0.9398 - val_loss: 1.0609 - val_acc: 0.8193\n",
      "Epoch 134/350\n",
      "50000/50000 [==============================] - 65s 1ms/step - loss: 0.1786 - acc: 0.9415 - val_loss: 1.0805 - val_acc: 0.8281\n",
      "Epoch 135/350\n",
      "50000/50000 [==============================] - 65s 1ms/step - loss: 0.1823 - acc: 0.9410 - val_loss: 1.1247 - val_acc: 0.8209\n",
      "Epoch 136/350\n",
      "50000/50000 [==============================] - 65s 1ms/step - loss: 0.1849 - acc: 0.9405 - val_loss: 1.0079 - val_acc: 0.8274\n",
      "Epoch 137/350\n",
      "50000/50000 [==============================] - 65s 1ms/step - loss: 0.1696 - acc: 0.9459 - val_loss: 1.1059 - val_acc: 0.8202\n",
      "Epoch 138/350\n",
      "50000/50000 [==============================] - 65s 1ms/step - loss: 0.1732 - acc: 0.9442 - val_loss: 1.1059 - val_acc: 0.8173\n",
      "Epoch 139/350\n",
      "50000/50000 [==============================] - 65s 1ms/step - loss: 0.1866 - acc: 0.9400 - val_loss: 1.0624 - val_acc: 0.8246\n",
      "Epoch 140/350\n",
      "50000/50000 [==============================] - 65s 1ms/step - loss: 0.1809 - acc: 0.9411 - val_loss: 1.0745 - val_acc: 0.8222\n",
      "Epoch 141/350\n",
      "50000/50000 [==============================] - 66s 1ms/step - loss: 0.1838 - acc: 0.9406 - val_loss: 1.0087 - val_acc: 0.8141\n",
      "Epoch 142/350\n",
      "50000/50000 [==============================] - 66s 1ms/step - loss: 0.1838 - acc: 0.9413 - val_loss: 1.0810 - val_acc: 0.8244\n",
      "Epoch 143/350\n",
      "50000/50000 [==============================] - 65s 1ms/step - loss: 0.1698 - acc: 0.9453 - val_loss: 1.0557 - val_acc: 0.8197\n",
      "Epoch 144/350\n",
      "50000/50000 [==============================] - 65s 1ms/step - loss: 0.1794 - acc: 0.9430 - val_loss: 1.1189 - val_acc: 0.8215\n",
      "Epoch 145/350\n",
      "50000/50000 [==============================] - 66s 1ms/step - loss: 0.1831 - acc: 0.9423 - val_loss: 1.2252 - val_acc: 0.8069\n",
      "Epoch 146/350\n",
      "50000/50000 [==============================] - 65s 1ms/step - loss: 0.1936 - acc: 0.9381 - val_loss: 1.0912 - val_acc: 0.8224\n",
      "Epoch 147/350\n",
      "50000/50000 [==============================] - 66s 1ms/step - loss: 0.1873 - acc: 0.9389 - val_loss: 1.0943 - val_acc: 0.8171\n",
      "Epoch 148/350\n",
      "50000/50000 [==============================] - 65s 1ms/step - loss: 0.1802 - acc: 0.9436 - val_loss: 1.0502 - val_acc: 0.8124\n",
      "Epoch 149/350\n",
      "50000/50000 [==============================] - 65s 1ms/step - loss: 0.1858 - acc: 0.9409 - val_loss: 1.0783 - val_acc: 0.8085\n",
      "Epoch 150/350\n",
      "50000/50000 [==============================] - 65s 1ms/step - loss: 0.1845 - acc: 0.9404 - val_loss: 1.0206 - val_acc: 0.8245\n",
      "Epoch 151/350\n",
      "50000/50000 [==============================] - 65s 1ms/step - loss: 0.1760 - acc: 0.9433 - val_loss: 1.0698 - val_acc: 0.8234\n",
      "Epoch 152/350\n",
      "50000/50000 [==============================] - 65s 1ms/step - loss: 0.1726 - acc: 0.9446 - val_loss: 1.1271 - val_acc: 0.8206\n",
      "Epoch 153/350\n",
      "50000/50000 [==============================] - 65s 1ms/step - loss: 0.1863 - acc: 0.9405 - val_loss: 1.1461 - val_acc: 0.8221\n",
      "Epoch 154/350\n",
      "50000/50000 [==============================] - 65s 1ms/step - loss: 0.1861 - acc: 0.9391 - val_loss: 1.2749 - val_acc: 0.8084\n",
      "Epoch 155/350\n",
      "50000/50000 [==============================] - 65s 1ms/step - loss: 0.1772 - acc: 0.9439 - val_loss: 1.0214 - val_acc: 0.8239\n",
      "Epoch 156/350\n",
      "50000/50000 [==============================] - 65s 1ms/step - loss: 0.1794 - acc: 0.9431 - val_loss: 1.0844 - val_acc: 0.8248\n",
      "Epoch 157/350\n",
      "50000/50000 [==============================] - 65s 1ms/step - loss: 0.1816 - acc: 0.9436 - val_loss: 1.0947 - val_acc: 0.8196\n",
      "Epoch 158/350\n",
      "50000/50000 [==============================] - 65s 1ms/step - loss: 0.1773 - acc: 0.9423 - val_loss: 1.2067 - val_acc: 0.8168\n",
      "Epoch 159/350\n",
      "50000/50000 [==============================] - 65s 1ms/step - loss: 0.1945 - acc: 0.9378 - val_loss: 1.1492 - val_acc: 0.8129\n",
      "Epoch 160/350\n",
      "50000/50000 [==============================] - 65s 1ms/step - loss: 0.2025 - acc: 0.9346 - val_loss: 1.0967 - val_acc: 0.8188\n",
      "Epoch 161/350\n",
      "50000/50000 [==============================] - 65s 1ms/step - loss: 0.1777 - acc: 0.9437 - val_loss: 1.1872 - val_acc: 0.8181\n",
      "Epoch 162/350\n",
      "50000/50000 [==============================] - 65s 1ms/step - loss: 0.1795 - acc: 0.9442 - val_loss: 1.0806 - val_acc: 0.8261\n",
      "Epoch 163/350\n",
      "50000/50000 [==============================] - 66s 1ms/step - loss: 0.1832 - acc: 0.9424 - val_loss: 1.0967 - val_acc: 0.8257\n",
      "Epoch 164/350\n",
      "50000/50000 [==============================] - 66s 1ms/step - loss: 0.1923 - acc: 0.9399 - val_loss: 1.2953 - val_acc: 0.8084\n",
      "Epoch 165/350\n",
      "50000/50000 [==============================] - 66s 1ms/step - loss: 0.1821 - acc: 0.9420 - val_loss: 1.0853 - val_acc: 0.8192\n",
      "Epoch 166/350\n",
      "50000/50000 [==============================] - 67s 1ms/step - loss: 0.1802 - acc: 0.9433 - val_loss: 0.9929 - val_acc: 0.8197\n",
      "Epoch 167/350\n",
      "50000/50000 [==============================] - 66s 1ms/step - loss: 0.1897 - acc: 0.9394 - val_loss: 1.1332 - val_acc: 0.8220\n",
      "Epoch 168/350\n",
      "50000/50000 [==============================] - 67s 1ms/step - loss: 0.1914 - acc: 0.9394 - val_loss: 1.1466 - val_acc: 0.8129\n",
      "Epoch 169/350\n",
      "50000/50000 [==============================] - 66s 1ms/step - loss: 0.1874 - acc: 0.9407 - val_loss: 1.0861 - val_acc: 0.8171\n",
      "Epoch 170/350\n",
      "50000/50000 [==============================] - 67s 1ms/step - loss: 0.1866 - acc: 0.9393 - val_loss: 1.1388 - val_acc: 0.8161\n",
      "Epoch 171/350\n",
      "50000/50000 [==============================] - 67s 1ms/step - loss: 0.1877 - acc: 0.9410 - val_loss: 1.0950 - val_acc: 0.8195\n",
      "Epoch 172/350\n",
      "50000/50000 [==============================] - 66s 1ms/step - loss: 0.1851 - acc: 0.9421 - val_loss: 1.1340 - val_acc: 0.8199\n",
      "Epoch 173/350\n",
      "50000/50000 [==============================] - 66s 1ms/step - loss: 0.1903 - acc: 0.9399 - val_loss: 1.1233 - val_acc: 0.8219\n",
      "Epoch 174/350\n",
      "50000/50000 [==============================] - 66s 1ms/step - loss: 0.1761 - acc: 0.9441 - val_loss: 1.0945 - val_acc: 0.8274\n",
      "Epoch 175/350\n",
      "50000/50000 [==============================] - 66s 1ms/step - loss: 0.1753 - acc: 0.9451 - val_loss: 1.0920 - val_acc: 0.8182\n",
      "Epoch 176/350\n",
      "50000/50000 [==============================] - 65s 1ms/step - loss: 0.1709 - acc: 0.9449 - val_loss: 1.3708 - val_acc: 0.8040\n",
      "Epoch 177/350\n",
      "50000/50000 [==============================] - 65s 1ms/step - loss: 0.1814 - acc: 0.9438 - val_loss: 1.1402 - val_acc: 0.8139\n",
      "Epoch 178/350\n",
      "50000/50000 [==============================] - 65s 1ms/step - loss: 0.1834 - acc: 0.9415 - val_loss: 1.0634 - val_acc: 0.8239\n",
      "Epoch 179/350\n",
      "50000/50000 [==============================] - 65s 1ms/step - loss: 0.1772 - acc: 0.9432 - val_loss: 1.1676 - val_acc: 0.8179\n",
      "Epoch 180/350\n",
      "50000/50000 [==============================] - 66s 1ms/step - loss: 0.1819 - acc: 0.9430 - val_loss: 1.1155 - val_acc: 0.8281\n",
      "Epoch 181/350\n",
      "50000/50000 [==============================] - 66s 1ms/step - loss: 0.1895 - acc: 0.9407 - val_loss: 1.1555 - val_acc: 0.8109\n",
      "Epoch 182/350\n",
      "50000/50000 [==============================] - 66s 1ms/step - loss: 0.1779 - acc: 0.9440 - val_loss: 1.0561 - val_acc: 0.8266\n",
      "Epoch 183/350\n",
      "50000/50000 [==============================] - 66s 1ms/step - loss: 0.1783 - acc: 0.9443 - val_loss: 1.0435 - val_acc: 0.8249\n",
      "Epoch 184/350\n",
      "50000/50000 [==============================] - 65s 1ms/step - loss: 0.1697 - acc: 0.9475 - val_loss: 1.0722 - val_acc: 0.8248\n",
      "Epoch 185/350\n",
      "50000/50000 [==============================] - 66s 1ms/step - loss: 0.1863 - acc: 0.9423 - val_loss: 1.1310 - val_acc: 0.8142\n",
      "Epoch 186/350\n",
      "50000/50000 [==============================] - 66s 1ms/step - loss: 0.1806 - acc: 0.9427 - val_loss: 1.0712 - val_acc: 0.8245\n",
      "Epoch 187/350\n",
      "50000/50000 [==============================] - 65s 1ms/step - loss: 0.1840 - acc: 0.9432 - val_loss: 1.1488 - val_acc: 0.8158\n",
      "Epoch 188/350\n",
      "50000/50000 [==============================] - 66s 1ms/step - loss: 0.1817 - acc: 0.9416 - val_loss: 0.9700 - val_acc: 0.8298\n",
      "Epoch 189/350\n",
      "50000/50000 [==============================] - 65s 1ms/step - loss: 0.1780 - acc: 0.9444 - val_loss: 1.1096 - val_acc: 0.8074\n",
      "Epoch 190/350\n",
      "50000/50000 [==============================] - 66s 1ms/step - loss: 0.1698 - acc: 0.9470 - val_loss: 1.1169 - val_acc: 0.8191\n",
      "Epoch 191/350\n",
      "50000/50000 [==============================] - 65s 1ms/step - loss: 0.1773 - acc: 0.9440 - val_loss: 1.1630 - val_acc: 0.8176\n",
      "Epoch 192/350\n",
      "50000/50000 [==============================] - 66s 1ms/step - loss: 0.1810 - acc: 0.9431 - val_loss: 1.1407 - val_acc: 0.8192\n",
      "Epoch 193/350\n",
      "50000/50000 [==============================] - 65s 1ms/step - loss: 0.1811 - acc: 0.9439 - val_loss: 1.1454 - val_acc: 0.8251\n",
      "Epoch 194/350\n",
      "50000/50000 [==============================] - 65s 1ms/step - loss: 0.1794 - acc: 0.9452 - val_loss: 1.1811 - val_acc: 0.8154\n",
      "Epoch 195/350\n",
      "50000/50000 [==============================] - 66s 1ms/step - loss: 0.1698 - acc: 0.9470 - val_loss: 1.1664 - val_acc: 0.8195\n",
      "Epoch 196/350\n",
      "50000/50000 [==============================] - 65s 1ms/step - loss: 0.1800 - acc: 0.9425 - val_loss: 1.1808 - val_acc: 0.8211\n",
      "Epoch 197/350\n",
      "50000/50000 [==============================] - 65s 1ms/step - loss: 0.1677 - acc: 0.9476 - val_loss: 1.1869 - val_acc: 0.8163\n",
      "Epoch 198/350\n",
      "50000/50000 [==============================] - 65s 1ms/step - loss: 0.1812 - acc: 0.9428 - val_loss: 1.0758 - val_acc: 0.8290\n",
      "Epoch 199/350\n",
      "50000/50000 [==============================] - 65s 1ms/step - loss: 0.1845 - acc: 0.9425 - val_loss: 1.0912 - val_acc: 0.8191\n",
      "Epoch 200/350\n",
      "50000/50000 [==============================] - 66s 1ms/step - loss: 0.1717 - acc: 0.9465 - val_loss: 1.1243 - val_acc: 0.8256\n",
      "Epoch 201/350\n",
      "50000/50000 [==============================] - 65s 1ms/step - loss: 0.1722 - acc: 0.9467 - val_loss: 1.1836 - val_acc: 0.8058\n",
      "Epoch 202/350\n",
      "50000/50000 [==============================] - 65s 1ms/step - loss: 0.1719 - acc: 0.9469 - val_loss: 1.1369 - val_acc: 0.8206\n",
      "Epoch 203/350\n",
      "50000/50000 [==============================] - 65s 1ms/step - loss: 0.1791 - acc: 0.9453 - val_loss: 1.0814 - val_acc: 0.8194\n",
      "Epoch 204/350\n",
      "50000/50000 [==============================] - 65s 1ms/step - loss: 0.1701 - acc: 0.9471 - val_loss: 1.1191 - val_acc: 0.8228\n",
      "Epoch 205/350\n",
      "50000/50000 [==============================] - 65s 1ms/step - loss: 0.1655 - acc: 0.9477 - val_loss: 1.1793 - val_acc: 0.8223\n",
      "Epoch 206/350\n",
      "50000/50000 [==============================] - 66s 1ms/step - loss: 0.1707 - acc: 0.9470 - val_loss: 1.1545 - val_acc: 0.8311\n",
      "Epoch 207/350\n",
      "50000/50000 [==============================] - 65s 1ms/step - loss: 0.1731 - acc: 0.9457 - val_loss: 1.1329 - val_acc: 0.8238\n",
      "Epoch 208/350\n",
      "50000/50000 [==============================] - 65s 1ms/step - loss: 0.1912 - acc: 0.9419 - val_loss: 1.1142 - val_acc: 0.8201\n",
      "Epoch 209/350\n",
      "50000/50000 [==============================] - 65s 1ms/step - loss: 0.1805 - acc: 0.9439 - val_loss: 1.1093 - val_acc: 0.8064\n",
      "Epoch 210/350\n",
      "50000/50000 [==============================] - 65s 1ms/step - loss: 0.1842 - acc: 0.9434 - val_loss: 1.0840 - val_acc: 0.8251\n",
      "Epoch 211/350\n",
      "50000/50000 [==============================] - 65s 1ms/step - loss: 0.1703 - acc: 0.9465 - val_loss: 1.1465 - val_acc: 0.8307\n",
      "Epoch 212/350\n",
      "50000/50000 [==============================] - 65s 1ms/step - loss: 0.1592 - acc: 0.9501 - val_loss: 1.1462 - val_acc: 0.8227\n",
      "Epoch 213/350\n",
      "50000/50000 [==============================] - 66s 1ms/step - loss: 0.1713 - acc: 0.9466 - val_loss: 1.1787 - val_acc: 0.8148\n",
      "Epoch 214/350\n",
      "50000/50000 [==============================] - 66s 1ms/step - loss: 0.1867 - acc: 0.9424 - val_loss: 1.1326 - val_acc: 0.8168\n",
      "Epoch 215/350\n",
      "50000/50000 [==============================] - 65s 1ms/step - loss: 0.1651 - acc: 0.9489 - val_loss: 1.2502 - val_acc: 0.8202\n",
      "Epoch 216/350\n",
      "50000/50000 [==============================] - 65s 1ms/step - loss: 0.1772 - acc: 0.9461 - val_loss: 1.2369 - val_acc: 0.8143\n",
      "Epoch 217/350\n",
      "50000/50000 [==============================] - 65s 1ms/step - loss: 0.1724 - acc: 0.9478 - val_loss: 1.1806 - val_acc: 0.8154\n",
      "Epoch 218/350\n",
      "50000/50000 [==============================] - 65s 1ms/step - loss: 0.1720 - acc: 0.9471 - val_loss: 1.1608 - val_acc: 0.8289\n",
      "Epoch 219/350\n",
      "50000/50000 [==============================] - 65s 1ms/step - loss: 0.1722 - acc: 0.9477 - val_loss: 1.1785 - val_acc: 0.8237\n",
      "Epoch 220/350\n",
      "50000/50000 [==============================] - 65s 1ms/step - loss: 0.1772 - acc: 0.9455 - val_loss: 1.0403 - val_acc: 0.8297\n",
      "Epoch 221/350\n",
      "50000/50000 [==============================] - 65s 1ms/step - loss: 0.1688 - acc: 0.9477 - val_loss: 1.1984 - val_acc: 0.8176\n",
      "Epoch 222/350\n",
      "50000/50000 [==============================] - 65s 1ms/step - loss: 0.1771 - acc: 0.9456 - val_loss: 1.0989 - val_acc: 0.8177\n",
      "Epoch 223/350\n",
      "50000/50000 [==============================] - 65s 1ms/step - loss: 0.1652 - acc: 0.9499 - val_loss: 1.0704 - val_acc: 0.8230\n",
      "Epoch 224/350\n",
      "50000/50000 [==============================] - 65s 1ms/step - loss: 0.1714 - acc: 0.9469 - val_loss: 1.2281 - val_acc: 0.8194\n",
      "Epoch 225/350\n",
      "50000/50000 [==============================] - 65s 1ms/step - loss: 0.1708 - acc: 0.9489 - val_loss: 1.2182 - val_acc: 0.8183\n",
      "Epoch 226/350\n",
      "50000/50000 [==============================] - 65s 1ms/step - loss: 0.1662 - acc: 0.9488 - val_loss: 1.2046 - val_acc: 0.8201\n",
      "Epoch 227/350\n",
      "50000/50000 [==============================] - 65s 1ms/step - loss: 0.1761 - acc: 0.9447 - val_loss: 1.3068 - val_acc: 0.8029\n",
      "Epoch 228/350\n",
      "50000/50000 [==============================] - 66s 1ms/step - loss: 0.1657 - acc: 0.9485 - val_loss: 1.1616 - val_acc: 0.8292\n",
      "Epoch 229/350\n",
      "50000/50000 [==============================] - 65s 1ms/step - loss: 0.1727 - acc: 0.9477 - val_loss: 1.1991 - val_acc: 0.8168\n",
      "Epoch 230/350\n",
      "50000/50000 [==============================] - 65s 1ms/step - loss: 0.1804 - acc: 0.9453 - val_loss: 1.1983 - val_acc: 0.8148\n",
      "Epoch 231/350\n",
      "50000/50000 [==============================] - 66s 1ms/step - loss: 0.1853 - acc: 0.9439 - val_loss: 1.1522 - val_acc: 0.8241\n",
      "Epoch 232/350\n",
      "50000/50000 [==============================] - 65s 1ms/step - loss: 0.1736 - acc: 0.9467 - val_loss: 1.1410 - val_acc: 0.8164\n",
      "Epoch 233/350\n",
      "50000/50000 [==============================] - 65s 1ms/step - loss: 0.1783 - acc: 0.9463 - val_loss: 1.1800 - val_acc: 0.8204\n",
      "Epoch 234/350\n",
      "50000/50000 [==============================] - 65s 1ms/step - loss: 0.1643 - acc: 0.9499 - val_loss: 1.1053 - val_acc: 0.8144\n",
      "Epoch 235/350\n",
      "50000/50000 [==============================] - 65s 1ms/step - loss: 0.1563 - acc: 0.9510 - val_loss: 1.2020 - val_acc: 0.8067\n",
      "Epoch 236/350\n",
      "50000/50000 [==============================] - 65s 1ms/step - loss: 0.1788 - acc: 0.9461 - val_loss: 1.1947 - val_acc: 0.8094\n",
      "Epoch 237/350\n",
      "50000/50000 [==============================] - 65s 1ms/step - loss: 0.1692 - acc: 0.9487 - val_loss: 1.2809 - val_acc: 0.8192\n",
      "Epoch 238/350\n",
      "50000/50000 [==============================] - 66s 1ms/step - loss: 0.1691 - acc: 0.9478 - val_loss: 1.1638 - val_acc: 0.8231\n",
      "Epoch 239/350\n",
      "50000/50000 [==============================] - 65s 1ms/step - loss: 0.1781 - acc: 0.9442 - val_loss: 1.2319 - val_acc: 0.8108\n",
      "Epoch 240/350\n",
      "50000/50000 [==============================] - 65s 1ms/step - loss: 0.1745 - acc: 0.9474 - val_loss: 1.1562 - val_acc: 0.8292\n",
      "Epoch 241/350\n",
      "50000/50000 [==============================] - 66s 1ms/step - loss: 0.1707 - acc: 0.9487 - val_loss: 1.2632 - val_acc: 0.8246\n",
      "Epoch 242/350\n",
      "50000/50000 [==============================] - 65s 1ms/step - loss: 0.1706 - acc: 0.9487 - val_loss: 1.1320 - val_acc: 0.8251\n",
      "Epoch 243/350\n",
      "50000/50000 [==============================] - 66s 1ms/step - loss: 0.1718 - acc: 0.9476 - val_loss: 1.2557 - val_acc: 0.8161\n",
      "Epoch 244/350\n",
      "50000/50000 [==============================] - 66s 1ms/step - loss: 0.1732 - acc: 0.9474 - val_loss: 1.1731 - val_acc: 0.8269\n",
      "Epoch 245/350\n",
      "50000/50000 [==============================] - 65s 1ms/step - loss: 0.1827 - acc: 0.9449 - val_loss: 1.1639 - val_acc: 0.8162\n",
      "Epoch 246/350\n",
      "50000/50000 [==============================] - 65s 1ms/step - loss: 0.1693 - acc: 0.9503 - val_loss: 1.2277 - val_acc: 0.8183\n",
      "Epoch 247/350\n",
      "50000/50000 [==============================] - 66s 1ms/step - loss: 0.1744 - acc: 0.9465 - val_loss: 1.2508 - val_acc: 0.8135\n",
      "Epoch 248/350\n",
      "50000/50000 [==============================] - 66s 1ms/step - loss: 0.1772 - acc: 0.9471 - val_loss: 1.1686 - val_acc: 0.8143\n",
      "Epoch 249/350\n",
      "50000/50000 [==============================] - 65s 1ms/step - loss: 0.1710 - acc: 0.9484 - val_loss: 1.1537 - val_acc: 0.8145\n",
      "Epoch 250/350\n",
      "50000/50000 [==============================] - 65s 1ms/step - loss: 0.1827 - acc: 0.9437 - val_loss: 1.1546 - val_acc: 0.8241\n",
      "Epoch 251/350\n",
      "50000/50000 [==============================] - 65s 1ms/step - loss: 0.1733 - acc: 0.9479 - val_loss: 1.1007 - val_acc: 0.8229\n",
      "Epoch 252/350\n",
      "50000/50000 [==============================] - 65s 1ms/step - loss: 0.1565 - acc: 0.9523 - val_loss: 1.3008 - val_acc: 0.8185\n",
      "Epoch 253/350\n",
      "50000/50000 [==============================] - 65s 1ms/step - loss: 0.1723 - acc: 0.9498 - val_loss: 1.2211 - val_acc: 0.8032\n",
      "Epoch 254/350\n",
      "50000/50000 [==============================] - 65s 1ms/step - loss: 0.1517 - acc: 0.9524 - val_loss: 1.1627 - val_acc: 0.8315\n",
      "Epoch 255/350\n",
      "50000/50000 [==============================] - 65s 1ms/step - loss: 0.1671 - acc: 0.9490 - val_loss: 1.1681 - val_acc: 0.8186\n",
      "Epoch 256/350\n",
      "50000/50000 [==============================] - 66s 1ms/step - loss: 0.1508 - acc: 0.9543 - val_loss: 1.3452 - val_acc: 0.8249\n",
      "Epoch 257/350\n",
      "50000/50000 [==============================] - 66s 1ms/step - loss: 0.1671 - acc: 0.9492 - val_loss: 1.2341 - val_acc: 0.8142\n",
      "Epoch 258/350\n",
      "50000/50000 [==============================] - 65s 1ms/step - loss: 0.1736 - acc: 0.9481 - val_loss: 1.0560 - val_acc: 0.8306\n",
      "Epoch 259/350\n",
      "50000/50000 [==============================] - 65s 1ms/step - loss: 0.1544 - acc: 0.9533 - val_loss: 1.1711 - val_acc: 0.8246\n",
      "Epoch 260/350\n",
      "50000/50000 [==============================] - 65s 1ms/step - loss: 0.1716 - acc: 0.9484 - val_loss: 1.2941 - val_acc: 0.8101\n",
      "Epoch 261/350\n",
      "50000/50000 [==============================] - 65s 1ms/step - loss: 0.1717 - acc: 0.9481 - val_loss: 1.1129 - val_acc: 0.8260\n",
      "Epoch 262/350\n",
      "50000/50000 [==============================] - 65s 1ms/step - loss: 0.1703 - acc: 0.9488 - val_loss: 1.2614 - val_acc: 0.8125\n",
      "Epoch 263/350\n",
      "50000/50000 [==============================] - 65s 1ms/step - loss: 0.1632 - acc: 0.9498 - val_loss: 1.3119 - val_acc: 0.8206\n",
      "Epoch 264/350\n",
      "50000/50000 [==============================] - 65s 1ms/step - loss: 0.1728 - acc: 0.9476 - val_loss: 1.1887 - val_acc: 0.8258\n",
      "Epoch 265/350\n",
      "50000/50000 [==============================] - 65s 1ms/step - loss: 0.1678 - acc: 0.9495 - val_loss: 1.1783 - val_acc: 0.8213\n",
      "Epoch 266/350\n",
      "50000/50000 [==============================] - 65s 1ms/step - loss: 0.1610 - acc: 0.9506 - val_loss: 1.2109 - val_acc: 0.8275\n",
      "Epoch 267/350\n",
      "50000/50000 [==============================] - 65s 1ms/step - loss: 0.1677 - acc: 0.9494 - val_loss: 1.3694 - val_acc: 0.8090\n",
      "Epoch 268/350\n",
      "50000/50000 [==============================] - 65s 1ms/step - loss: 0.1653 - acc: 0.9507 - val_loss: 1.1569 - val_acc: 0.8274\n",
      "Epoch 269/350\n",
      "50000/50000 [==============================] - 65s 1ms/step - loss: 0.1627 - acc: 0.9509 - val_loss: 1.2171 - val_acc: 0.8099\n",
      "Epoch 270/350\n",
      "50000/50000 [==============================] - 65s 1ms/step - loss: 0.1714 - acc: 0.9480 - val_loss: 1.2179 - val_acc: 0.8166\n",
      "Epoch 271/350\n",
      "50000/50000 [==============================] - 65s 1ms/step - loss: 0.1474 - acc: 0.9561 - val_loss: 1.1876 - val_acc: 0.8229\n",
      "Epoch 272/350\n",
      "50000/50000 [==============================] - 65s 1ms/step - loss: 0.1535 - acc: 0.9531 - val_loss: 1.2165 - val_acc: 0.8194\n",
      "Epoch 273/350\n",
      "50000/50000 [==============================] - 65s 1ms/step - loss: 0.1604 - acc: 0.9506 - val_loss: 1.1193 - val_acc: 0.8287\n",
      "Epoch 274/350\n",
      "50000/50000 [==============================] - 65s 1ms/step - loss: 0.1685 - acc: 0.9493 - val_loss: 1.2655 - val_acc: 0.8173\n",
      "Epoch 275/350\n",
      "50000/50000 [==============================] - 65s 1ms/step - loss: 0.1718 - acc: 0.9481 - val_loss: 1.1663 - val_acc: 0.8250\n",
      "Epoch 276/350\n",
      "50000/50000 [==============================] - 65s 1ms/step - loss: 0.1650 - acc: 0.9502 - val_loss: 1.1646 - val_acc: 0.8218\n",
      "Epoch 277/350\n",
      "50000/50000 [==============================] - 65s 1ms/step - loss: 0.1688 - acc: 0.9490 - val_loss: 1.2703 - val_acc: 0.8146\n",
      "Epoch 278/350\n",
      "50000/50000 [==============================] - 65s 1ms/step - loss: 0.1642 - acc: 0.9509 - val_loss: 1.2733 - val_acc: 0.8013\n",
      "Epoch 279/350\n",
      "50000/50000 [==============================] - 65s 1ms/step - loss: 0.1671 - acc: 0.9500 - val_loss: 1.2638 - val_acc: 0.8159\n",
      "Epoch 280/350\n",
      "50000/50000 [==============================] - 65s 1ms/step - loss: 0.1548 - acc: 0.9533 - val_loss: 1.2317 - val_acc: 0.8244\n",
      "Epoch 281/350\n",
      "50000/50000 [==============================] - 65s 1ms/step - loss: 0.1664 - acc: 0.9503 - val_loss: 1.1540 - val_acc: 0.8257\n",
      "Epoch 282/350\n",
      "50000/50000 [==============================] - 65s 1ms/step - loss: 0.1567 - acc: 0.9526 - val_loss: 1.2590 - val_acc: 0.8194\n",
      "Epoch 283/350\n",
      "50000/50000 [==============================] - 65s 1ms/step - loss: 0.1688 - acc: 0.9488 - val_loss: 1.2283 - val_acc: 0.8163\n",
      "Epoch 284/350\n",
      "50000/50000 [==============================] - 65s 1ms/step - loss: 0.1613 - acc: 0.9507 - val_loss: 1.2644 - val_acc: 0.8241\n",
      "Epoch 285/350\n",
      "50000/50000 [==============================] - 65s 1ms/step - loss: 0.1600 - acc: 0.9533 - val_loss: 1.3222 - val_acc: 0.8147\n",
      "Epoch 286/350\n",
      "50000/50000 [==============================] - 65s 1ms/step - loss: 0.1519 - acc: 0.9549 - val_loss: 1.2902 - val_acc: 0.8244\n",
      "Epoch 287/350\n",
      "50000/50000 [==============================] - 66s 1ms/step - loss: 0.1608 - acc: 0.9510 - val_loss: 1.2478 - val_acc: 0.8191\n",
      "Epoch 288/350\n",
      "50000/50000 [==============================] - 66s 1ms/step - loss: 0.1621 - acc: 0.9506 - val_loss: 1.2191 - val_acc: 0.8220\n",
      "Epoch 289/350\n",
      "50000/50000 [==============================] - 66s 1ms/step - loss: 0.1628 - acc: 0.9518 - val_loss: 1.2079 - val_acc: 0.8173\n",
      "Epoch 290/350\n",
      "50000/50000 [==============================] - 65s 1ms/step - loss: 0.1609 - acc: 0.9526 - val_loss: 1.2895 - val_acc: 0.8240\n",
      "Epoch 291/350\n",
      "50000/50000 [==============================] - 65s 1ms/step - loss: 0.1570 - acc: 0.9538 - val_loss: 1.3470 - val_acc: 0.8252\n",
      "Epoch 292/350\n",
      "50000/50000 [==============================] - 65s 1ms/step - loss: 0.1583 - acc: 0.9528 - val_loss: 1.3344 - val_acc: 0.8160\n",
      "Epoch 293/350\n",
      "50000/50000 [==============================] - 65s 1ms/step - loss: 0.1698 - acc: 0.9494 - val_loss: 1.3325 - val_acc: 0.8157\n",
      "Epoch 294/350\n",
      "50000/50000 [==============================] - 65s 1ms/step - loss: 0.1527 - acc: 0.9544 - val_loss: 1.2932 - val_acc: 0.8242\n",
      "Epoch 295/350\n",
      "50000/50000 [==============================] - 65s 1ms/step - loss: 0.1641 - acc: 0.9508 - val_loss: 1.3959 - val_acc: 0.8240\n",
      "Epoch 296/350\n",
      "50000/50000 [==============================] - 65s 1ms/step - loss: 0.1745 - acc: 0.9484 - val_loss: 1.1757 - val_acc: 0.8208\n",
      "Epoch 297/350\n",
      "50000/50000 [==============================] - 65s 1ms/step - loss: 0.1598 - acc: 0.9528 - val_loss: 1.2730 - val_acc: 0.8205\n",
      "Epoch 298/350\n",
      "50000/50000 [==============================] - 65s 1ms/step - loss: 0.1528 - acc: 0.9546 - val_loss: 1.2449 - val_acc: 0.8279\n",
      "Epoch 299/350\n",
      "50000/50000 [==============================] - 65s 1ms/step - loss: 0.1553 - acc: 0.9530 - val_loss: 1.4581 - val_acc: 0.8078\n",
      "Epoch 300/350\n",
      "50000/50000 [==============================] - 66s 1ms/step - loss: 0.1649 - acc: 0.9513 - val_loss: 1.2929 - val_acc: 0.8166\n",
      "Epoch 301/350\n",
      "50000/50000 [==============================] - 66s 1ms/step - loss: 0.1544 - acc: 0.9529 - val_loss: 1.3234 - val_acc: 0.8228\n",
      "Epoch 302/350\n",
      "50000/50000 [==============================] - 65s 1ms/step - loss: 0.1601 - acc: 0.9523 - val_loss: 1.3373 - val_acc: 0.8079\n",
      "Epoch 303/350\n",
      "50000/50000 [==============================] - 66s 1ms/step - loss: 0.1727 - acc: 0.9490 - val_loss: 1.2139 - val_acc: 0.8194\n",
      "Epoch 304/350\n",
      "50000/50000 [==============================] - 66s 1ms/step - loss: 0.1550 - acc: 0.9539 - val_loss: 1.2907 - val_acc: 0.8302\n",
      "Epoch 305/350\n",
      "50000/50000 [==============================] - 66s 1ms/step - loss: 0.1402 - acc: 0.9579 - val_loss: 1.2677 - val_acc: 0.8221\n",
      "Epoch 306/350\n",
      "50000/50000 [==============================] - 66s 1ms/step - loss: 0.1666 - acc: 0.9514 - val_loss: 1.2463 - val_acc: 0.8247\n",
      "Epoch 307/350\n",
      "50000/50000 [==============================] - 65s 1ms/step - loss: 0.1567 - acc: 0.9542 - val_loss: 1.3220 - val_acc: 0.8210\n",
      "Epoch 308/350\n",
      "50000/50000 [==============================] - 65s 1ms/step - loss: 0.1640 - acc: 0.9523 - val_loss: 1.2143 - val_acc: 0.8261\n",
      "Epoch 309/350\n",
      "50000/50000 [==============================] - 66s 1ms/step - loss: 0.1609 - acc: 0.9526 - val_loss: 1.3182 - val_acc: 0.8112\n",
      "Epoch 310/350\n",
      "50000/50000 [==============================] - 65s 1ms/step - loss: 0.1705 - acc: 0.9500 - val_loss: 1.1019 - val_acc: 0.8338\n",
      "Epoch 311/350\n",
      "50000/50000 [==============================] - 65s 1ms/step - loss: 0.1469 - acc: 0.9568 - val_loss: 1.2805 - val_acc: 0.8250\n",
      "Epoch 312/350\n",
      "50000/50000 [==============================] - 65s 1ms/step - loss: 0.1587 - acc: 0.9528 - val_loss: 1.1837 - val_acc: 0.8223\n",
      "Epoch 313/350\n",
      "50000/50000 [==============================] - 65s 1ms/step - loss: 0.1506 - acc: 0.9539 - val_loss: 1.2978 - val_acc: 0.8233\n",
      "Epoch 314/350\n",
      "50000/50000 [==============================] - 65s 1ms/step - loss: 0.1576 - acc: 0.9532 - val_loss: 1.2180 - val_acc: 0.8320\n",
      "Epoch 315/350\n",
      "50000/50000 [==============================] - 65s 1ms/step - loss: 0.1510 - acc: 0.9556 - val_loss: 1.2349 - val_acc: 0.8198\n",
      "Epoch 316/350\n",
      "50000/50000 [==============================] - 65s 1ms/step - loss: 0.1590 - acc: 0.9516 - val_loss: 1.2942 - val_acc: 0.8308\n",
      "Epoch 317/350\n",
      "50000/50000 [==============================] - 65s 1ms/step - loss: 0.1641 - acc: 0.9516 - val_loss: 1.3571 - val_acc: 0.8203\n",
      "Epoch 318/350\n",
      "50000/50000 [==============================] - 65s 1ms/step - loss: 0.1639 - acc: 0.9515 - val_loss: 1.1763 - val_acc: 0.8236\n",
      "Epoch 319/350\n",
      "50000/50000 [==============================] - 65s 1ms/step - loss: 0.1452 - acc: 0.9574 - val_loss: 1.1948 - val_acc: 0.8225\n",
      "Epoch 320/350\n",
      "50000/50000 [==============================] - 65s 1ms/step - loss: 0.1514 - acc: 0.9568 - val_loss: 1.2166 - val_acc: 0.8305\n",
      "Epoch 321/350\n",
      "50000/50000 [==============================] - 66s 1ms/step - loss: 0.1518 - acc: 0.9552 - val_loss: 1.2020 - val_acc: 0.8218\n",
      "Epoch 322/350\n",
      "50000/50000 [==============================] - 66s 1ms/step - loss: 0.1420 - acc: 0.9569 - val_loss: 1.2202 - val_acc: 0.8330\n",
      "Epoch 323/350\n",
      "50000/50000 [==============================] - 65s 1ms/step - loss: 0.1502 - acc: 0.9565 - val_loss: 1.2914 - val_acc: 0.8241\n",
      "Epoch 324/350\n",
      "50000/50000 [==============================] - 65s 1ms/step - loss: 0.1560 - acc: 0.9556 - val_loss: 1.2536 - val_acc: 0.8288\n",
      "Epoch 325/350\n",
      "50000/50000 [==============================] - 65s 1ms/step - loss: 0.1505 - acc: 0.9563 - val_loss: 1.2164 - val_acc: 0.8201\n",
      "Epoch 326/350\n",
      "50000/50000 [==============================] - 65s 1ms/step - loss: 0.1570 - acc: 0.9536 - val_loss: 1.3210 - val_acc: 0.8219\n",
      "Epoch 327/350\n",
      "50000/50000 [==============================] - 65s 1ms/step - loss: 0.1499 - acc: 0.9558 - val_loss: 1.2341 - val_acc: 0.8268\n",
      "Epoch 328/350\n",
      "50000/50000 [==============================] - 65s 1ms/step - loss: 0.1653 - acc: 0.9513 - val_loss: 1.2337 - val_acc: 0.8330\n",
      "Epoch 329/350\n",
      "50000/50000 [==============================] - 66s 1ms/step - loss: 0.1452 - acc: 0.9575 - val_loss: 1.2599 - val_acc: 0.8208\n",
      "Epoch 330/350\n",
      "50000/50000 [==============================] - 66s 1ms/step - loss: 0.1510 - acc: 0.9561 - val_loss: 1.2402 - val_acc: 0.8327\n",
      "Epoch 331/350\n",
      "50000/50000 [==============================] - 66s 1ms/step - loss: 0.1507 - acc: 0.9561 - val_loss: 1.3027 - val_acc: 0.8272\n",
      "Epoch 332/350\n",
      "50000/50000 [==============================] - 66s 1ms/step - loss: 0.1470 - acc: 0.9560 - val_loss: 1.2296 - val_acc: 0.8327\n",
      "Epoch 333/350\n",
      "50000/50000 [==============================] - 66s 1ms/step - loss: 0.1439 - acc: 0.9573 - val_loss: 1.3245 - val_acc: 0.8238\n",
      "Epoch 334/350\n",
      "50000/50000 [==============================] - 65s 1ms/step - loss: 0.1493 - acc: 0.9553 - val_loss: 1.1622 - val_acc: 0.8295\n",
      "Epoch 335/350\n",
      "50000/50000 [==============================] - 66s 1ms/step - loss: 0.1475 - acc: 0.9564 - val_loss: 1.2065 - val_acc: 0.8318\n",
      "Epoch 336/350\n",
      "50000/50000 [==============================] - 66s 1ms/step - loss: 0.1474 - acc: 0.9571 - val_loss: 1.3520 - val_acc: 0.8230\n",
      "Epoch 337/350\n",
      "50000/50000 [==============================] - 65s 1ms/step - loss: 0.1405 - acc: 0.9584 - val_loss: 1.1851 - val_acc: 0.8377\n",
      "Epoch 338/350\n",
      "50000/50000 [==============================] - 66s 1ms/step - loss: 0.1474 - acc: 0.9577 - val_loss: 1.2765 - val_acc: 0.8218\n",
      "Epoch 339/350\n",
      "50000/50000 [==============================] - 66s 1ms/step - loss: 0.1540 - acc: 0.9533 - val_loss: 1.1919 - val_acc: 0.8245\n",
      "Epoch 340/350\n",
      "50000/50000 [==============================] - 66s 1ms/step - loss: 0.1403 - acc: 0.9594 - val_loss: 1.4115 - val_acc: 0.8050\n",
      "Epoch 341/350\n",
      "50000/50000 [==============================] - 66s 1ms/step - loss: 0.1475 - acc: 0.9563 - val_loss: 1.2639 - val_acc: 0.8218\n",
      "Epoch 342/350\n",
      "50000/50000 [==============================] - 66s 1ms/step - loss: 0.1487 - acc: 0.9567 - val_loss: 1.2477 - val_acc: 0.8296\n",
      "Epoch 343/350\n",
      "50000/50000 [==============================] - 66s 1ms/step - loss: 0.1409 - acc: 0.9589 - val_loss: 1.2987 - val_acc: 0.8147\n",
      "Epoch 344/350\n",
      "50000/50000 [==============================] - 66s 1ms/step - loss: 0.1416 - acc: 0.9588 - val_loss: 1.2967 - val_acc: 0.8192\n",
      "Epoch 345/350\n",
      "50000/50000 [==============================] - 66s 1ms/step - loss: 0.1334 - acc: 0.9596 - val_loss: 1.2720 - val_acc: 0.8216\n",
      "Epoch 346/350\n",
      "50000/50000 [==============================] - 66s 1ms/step - loss: 0.1389 - acc: 0.9598 - val_loss: 1.2835 - val_acc: 0.8264\n",
      "Epoch 347/350\n",
      "50000/50000 [==============================] - 65s 1ms/step - loss: 0.1321 - acc: 0.9613 - val_loss: 1.2861 - val_acc: 0.8303\n",
      "Epoch 348/350\n",
      "50000/50000 [==============================] - 66s 1ms/step - loss: 0.1472 - acc: 0.9581 - val_loss: 1.3169 - val_acc: 0.8207\n",
      "Epoch 349/350\n",
      "50000/50000 [==============================] - 65s 1ms/step - loss: 0.1482 - acc: 0.9565 - val_loss: 1.2915 - val_acc: 0.8290\n",
      "Epoch 350/350\n",
      "50000/50000 [==============================] - 65s 1ms/step - loss: 0.1348 - acc: 0.9605 - val_loss: 1.2867 - val_acc: 0.8280\n"
     ]
    },
    {
     "data": {
      "text/plain": [
       "<keras.callbacks.History at 0x7ff421957668>"
      ]
     },
     "execution_count": 17,
     "metadata": {
      "tags": []
     },
     "output_type": "execute_result"
    }
   ],
   "source": [
    "model.fit(X_train,y_train,validation_data=(X_test,y_test),epochs=350,batch_size=32,\n",
    "         verbose=1)"
   ]
  },
  {
   "cell_type": "code",
   "execution_count": 18,
   "metadata": {
    "colab": {
     "base_uri": "https://localhost:8080/",
     "height": 54
    },
    "colab_type": "code",
    "id": "sc11-DnFO3FO",
    "outputId": "214c4901-38bd-45ac-8b03-7d39352ca595"
   },
   "outputs": [
    {
     "name": "stdout",
     "output_type": "stream",
     "text": [
      "10000/10000 [==============================] - 4s 412us/step\n",
      "ACCURACY:0.828\n"
     ]
    }
   ],
   "source": [
    "scores=model.evaluate(X_test,y_test,verbose=1)\n",
    "\n",
    "print(f'ACCURACY:{scores[1]}')"
   ]
  },
  {
   "cell_type": "code",
   "execution_count": 19,
   "metadata": {
    "colab": {
     "base_uri": "https://localhost:8080/",
     "height": 35
    },
    "colab_type": "code",
    "id": "B4sk-_3emYm7",
    "outputId": "ca6e6e1b-f305-482e-f2c7-c59ed727ef7c"
   },
   "outputs": [
    {
     "name": "stdout",
     "output_type": "stream",
     "text": [
      "{0: 'ariplane', 1: 'automobile', 2: 'bird', 3: 'cat', 4: 'deer', 5: 'dog', 6: 'frog', 7: 'horse', 8: 'ship', 9: 'truck'}\n"
     ]
    }
   ],
   "source": [
    "classes=range(0,10)\n",
    "\n",
    "names=[\"ariplane\",'automobile',\"bird\",\"cat\",\"deer\",\"dog\",\"frog\",\"horse\",\"ship\",\"truck\"]\n",
    "\n",
    "class_labels=dict(zip(classes,names))\n",
    "\n",
    "print(class_labels)"
   ]
  },
  {
   "cell_type": "code",
   "execution_count": 20,
   "metadata": {
    "colab": {
     "base_uri": "https://localhost:8080/",
     "height": 35
    },
    "colab_type": "code",
    "id": "K9sHYBF8nMqf",
    "outputId": "503eb967-b467-4bf5-c82c-7ce62d894711"
   },
   "outputs": [
    {
     "name": "stdout",
     "output_type": "stream",
     "text": [
      "9/9 [==============================] - 0s 20ms/step\n"
     ]
    }
   ],
   "source": [
    "# lets generate batch of 9 images to predict\n",
    "\n",
    "batch=X_test[110:119]\n",
    "\n",
    "labels=np.argmax(y_test[110:119],axis=-1)\n",
    "\n",
    "predictions=model.predict(batch,verbose=1)"
   ]
  },
  {
   "cell_type": "code",
   "execution_count": 21,
   "metadata": {
    "colab": {
     "base_uri": "https://localhost:8080/",
     "height": 348
    },
    "colab_type": "code",
    "id": "-peAUiicnvY-",
    "outputId": "395644cc-37dc-4d29-8c94-a86af0faf34e"
   },
   "outputs": [
    {
     "name": "stdout",
     "output_type": "stream",
     "text": [
      "[[1.0885022e-12 6.9062963e-13 2.7244994e-05 1.2063592e-08 9.9951601e-01\n",
      "  4.0697044e-04 4.2589712e-05 7.0535930e-06 6.8050135e-16 3.5050327e-16]\n",
      " [1.0000000e+00 1.0032316e-24 2.9913247e-19 1.1474705e-26 1.1461297e-30\n",
      "  1.2409823e-32 6.7862647e-32 4.8692848e-37 1.0955802e-18 4.2333014e-29]\n",
      " [1.1386620e-08 3.2224505e-17 1.0000000e+00 8.4288035e-11 1.8183727e-12\n",
      "  1.6279002e-12 3.6108935e-10 6.5328665e-16 1.9400553e-14 1.1167795e-18]\n",
      " [2.7546228e-17 2.9715939e-23 9.9907231e-01 9.2766952e-04 8.7849398e-12\n",
      "  2.8656447e-13 5.5347204e-08 1.4702137e-14 4.1569017e-21 8.1631689e-20]\n",
      " [0.0000000e+00 1.0000000e+00 0.0000000e+00 0.0000000e+00 0.0000000e+00\n",
      "  0.0000000e+00 0.0000000e+00 0.0000000e+00 0.0000000e+00 3.3683307e-21]\n",
      " [7.4403478e-12 5.5172179e-16 2.5864529e-14 1.0000000e+00 5.0821892e-11\n",
      "  1.3684241e-11 1.6195591e-13 8.4467688e-10 1.0737682e-16 1.7471398e-14]\n",
      " [1.0000000e+00 1.3819713e-19 2.0431542e-11 1.6997529e-12 2.3412004e-12\n",
      "  8.6521324e-16 7.3458441e-19 2.3215400e-17 2.4673261e-08 1.9910972e-16]\n",
      " [1.1835648e-05 5.3823032e-07 7.0959696e-04 5.6531802e-03 9.8147511e-01\n",
      "  2.3546652e-03 4.2097170e-07 8.9742234e-03 1.1631790e-05 8.0874102e-04]\n",
      " [1.7589785e-09 1.9810865e-12 9.9972016e-01 2.1871761e-04 7.5283339e-07\n",
      "  2.3744740e-06 5.8006321e-05 4.2424023e-08 3.2185123e-11 5.3259128e-13]]\n"
     ]
    }
   ],
   "source": [
    "# lets print the predictions\n",
    "\n",
    "print(predictions)"
   ]
  },
  {
   "cell_type": "code",
   "execution_count": null,
   "metadata": {
    "colab": {},
    "colab_type": "code",
    "id": "b_3Dsxqnn2ro"
   },
   "outputs": [],
   "source": [
    "# the probability of each class, thats why we have 10 predictions for each image"
   ]
  },
  {
   "cell_type": "code",
   "execution_count": null,
   "metadata": {
    "colab": {},
    "colab_type": "code",
    "id": "CSgT4CHUn-qY"
   },
   "outputs": [],
   "source": [
    "# use np.argmax() to convert class probabilities to class labels\n",
    "class_results=np.argmax(predictions,axis=-1)"
   ]
  },
  {
   "cell_type": "code",
   "execution_count": 25,
   "metadata": {
    "colab": {
     "base_uri": "https://localhost:8080/",
     "height": 35
    },
    "colab_type": "code",
    "id": "xIHTPO3wocmS",
    "outputId": "0e29e626-4245-4462-8e34-2bf43bf69367"
   },
   "outputs": [
    {
     "name": "stdout",
     "output_type": "stream",
     "text": [
      "[4 0 2 2 1 3 0 4 2]\n"
     ]
    }
   ],
   "source": [
    "print(class_results)"
   ]
  },
  {
   "cell_type": "code",
   "execution_count": 28,
   "metadata": {
    "colab": {
     "base_uri": "https://localhost:8080/",
     "height": 388
    },
    "colab_type": "code",
    "id": "JbybkjGNog0_",
    "outputId": "67cdb09c-4741-4ccc-c902-1a6fc1c69684"
   },
   "outputs": [
    {
     "data": {
      "image/png": "[encoded data removed]",
      "text/plain": [
       "<Figure size 1080x432 with 9 Axes>"
      ]
     },
     "metadata": {
      "tags": []
     },
     "output_type": "display_data"
    }
   ],
   "source": [
    "#lets create a grid 3X3 images\n",
    "\n",
    "fig, axs=plt.subplots(3,3,figsize=(15,6))\n",
    "fig.subplots_adjust(hspace=1)\n",
    "axs=axs.flatten()\n",
    "\n",
    "for i, img in enumerate(batch):\n",
    "  #determine label for each prediction\n",
    "  \n",
    "  for key, value in class_labels.items():\n",
    "    if class_results[i] == key:\n",
    "      title=f'Prediction: {class_labels[key]} \\nActual: {class_labels[labels[i]]}'\n",
    "      axs[i].set_title(title)\n",
    "      axs[i].axes.get_xaxis().set_visible(False)\n",
    "      axs[i].axes.get_yaxis().set_visible(False)\n",
    "      \n",
    "      axs[i].imshow(img)  \n",
    "#   axs[i].imshow(img.transpose([1,2,0]))\n",
    "  \n",
    "plt.show()\n",
    "\n",
    "\n",
    "\n"
   ]
  },
  {
   "cell_type": "code",
   "execution_count": null,
   "metadata": {
    "colab": {},
    "colab_type": "code",
    "id": "DjC4vheNqBYT"
   },
   "outputs": [],
   "source": []
  }
 ],
 "metadata": {
  "accelerator": "GPU",
  "colab": {
   "name": "Image Recognition.ipynb",
   "provenance": [],
   "version": "0.3.2"
  },
  "kernelspec": {
   "display_name": "Python 3",
   "language": "python",
   "name": "python3"
  },
  "language_info": {
   "codemirror_mode": {
    "name": "ipython",
    "version": 3
   },
   "file_extension": ".py",
   "mimetype": "text/x-python",
   "name": "python",
   "nbconvert_exporter": "python",
   "pygments_lexer": "ipython3",
   "version": "3.6.7"
  }
 },
 "nbformat": 4,
 "nbformat_minor": 4
}
